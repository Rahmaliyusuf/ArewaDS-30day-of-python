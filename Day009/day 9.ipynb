{
 "cells": [
  {
   "cell_type": "markdown",
   "id": "aac6f05b",
   "metadata": {},
   "source": [
    "### Day 9\n"
   ]
  },
  {
   "cell_type": "markdown",
   "id": "061414d5",
   "metadata": {},
   "source": [
    "##### Question 1\n",
    "Get user input using input(“Enter your age: ”). If user is 18 or older, give feedback: You are old enough to drive. If below 18 give feedback to wait for the missing amount of years. Output:\n",
    "\n"
   ]
  },
  {
   "cell_type": "code",
   "execution_count": null,
   "id": "0df5bc45",
   "metadata": {},
   "outputs": [],
   "source": [
    "age = int(input('Enter your Age:  '))\n",
    "if age >= 18 :\n",
    "    print('You are old enough to drive.')\n",
    "else:\n",
    "    remaiing_age = 18 - age\n",
    "    print('you are not  18. wait for  {} years  for you to start driving'.format(remaiing_age))\n"
   ]
  },
  {
   "cell_type": "markdown",
   "id": "ea78740e",
   "metadata": {},
   "source": [
    "##### Question 2\n",
    "Compare the values of my_age and your_age using if … else. Who is older (me or you)? Use input(“Enter your age: ”) to get the age as input. You can use a nested condition to print 'year' for 1 year difference in age, 'years' for bigger differences, and a custom text if my_age = your_age. Output:\n"
   ]
  },
  {
   "cell_type": "code",
   "execution_count": 10,
   "id": "71d9cb0e",
   "metadata": {},
   "outputs": [
    {
     "name": "stdout",
     "output_type": "stream",
     "text": [
      "Enter your age : 7\n"
     ]
    }
   ],
   "source": [
    "my_age = 25\n",
    "your_age = int(input('Enter your age : '))\n",
    "age_difference = your_age - my_age\n",
    "if your_age > my_age :\n",
    "        if age_difference == 1 :\n",
    "            print('you are one year older than me')\n",
    "        else :\n",
    "            print('you are {} older than me.'.format(age_difference))\n",
    "elif  my_age == your_age:\n",
    "        print('we are the same age ')"
   ]
  },
  {
   "cell_type": "markdown",
   "id": "6d42b628",
   "metadata": {},
   "source": [
    "##### Question 3\n",
    "Get two numbers from the user using input prompt. If a is greater than b return a is greater than b, if a is less b return a is smaller than b, else a is equal to b. Output:\n",
    "\n"
   ]
  },
  {
   "cell_type": "code",
   "execution_count": 12,
   "id": "b4969311",
   "metadata": {},
   "outputs": [
    {
     "name": "stdout",
     "output_type": "stream",
     "text": [
      "Enter number one4\n",
      "Enter number two3\n",
      "4  is grater than 3\n"
     ]
    }
   ],
   "source": [
    "A = int(input('Enter number one  '))\n",
    "B =int(input('Enter number two  '))\n",
    "if A > B :\n",
    "     print(f'{A}  is grater than {B}')\n",
    "elif A < B:\n",
    "     print(f'{A} is smaller than {B} ')\n",
    "else :\n",
    "     print(f'{A} is equal to {B} ') "
   ]
  },
  {
   "cell_type": "markdown",
   "id": "74aaafcc",
   "metadata": {},
   "source": [
    "####  Exercises Level 2 "
   ]
  },
  {
   "cell_type": "markdown",
   "metadata": {},
   "source": [
    "#### Question 1\n",
    "Write a code which gives grade to students according to theirs scores:\n"
   ]
  },
  {
   "cell_type": "code",
   "execution_count": 16,
   "id": "9b9b01ab",
   "metadata": {},
   "outputs": [
    {
     "name": "stdout",
     "output_type": "stream",
     "text": [
      "Enter Studnts score : (from 0 - 100)  80\n",
      "Studen'ts grade is A \n"
     ]
    }
   ],
   "source": [
    "\n",
    "score = int(input ('Enter Studnts score : (from 0 - 100)  '))\n",
    "if score >= 80 and score <= 100:\n",
    "     print('Studen\\'ts grade is A ')\n",
    "elif score >= 70 and score <= 89:\n",
    "     print('Studen\\'ts grade is B')\n",
    "elif score >= 60 and score <= 69:\n",
    "     print('Studen\\'ts grade is C') \n",
    "elif score >= 50 and score <= 59:\n",
    "     print('Studen\\'ts grade is D')\n",
    "elif score >= 0 and score <= 49:\n",
    "     print('Studen\\'ts grade is F') \n",
    "else :\n",
    "     print('invalid score')\n",
    "          "
   ]
  },
  {
   "cell_type": "markdown",
   "id": "8d761202",
   "metadata": {},
   "source": [
    "##### Question 2\n",
    "Check if the season is Autumn, Winter, Spring or Summer. If the user input is: September, October or November, the season is Autumn. December, January or February, the season is Winter. March, April or May, the season is Spring June, July or August, the season is Summer\n"
   ]
  },
  {
   "cell_type": "code",
   "execution_count": 20,
   "id": "027e620d",
   "metadata": {},
   "outputs": [
    {
     "name": "stdout",
     "output_type": "stream",
     "text": [
      "please enter month if the year to know its season :  October\n",
      "the season is Autumn\n"
     ]
    }
   ],
   "source": [
    "Month = input('please enter month if the year to know its season :  ')\n",
    "Months = [ 'September','October', 'November',' December', 'January ','February',\n",
    "         'March', 'April', 'May', 'June', 'July' ,'August' ]\n",
    "\n",
    "\n",
    "if Month in  Months[:3] :\n",
    "     print('the season is Autumn')\n",
    "elif Month in Months[3:6] :\n",
    "    print('the season is winter')\n",
    "elif Month in Months[6:9] :\n",
    "    print('season is Spring')\n",
    "else:\n",
    "      print('the season is summer')  \n"
   ]
  },
  {
   "cell_type": "markdown",
   "id": "2fa11a57",
   "metadata": {},
   "source": [
    "##### Question 3\n",
    "The following list contains some fruits:\n",
    "\n",
    "fruits = ['banana', 'orange', 'mango', 'lemon']\n",
    "If a fruit doesn't exist in the list add the fruit to the list and print the modified list. If the fruit exists print('That fruit already exist in the list')"
   ]
  },
  {
   "cell_type": "code",
   "execution_count": 3,
   "id": "787ed5ba",
   "metadata": {},
   "outputs": [
    {
     "name": "stdout",
     "output_type": "stream",
     "text": [
      "Enter the name of a fruit  apple\n",
      "The fruit you entered does not exist in the list, and it has been added in the list ['banana', 'orange', 'mango', 'lemon', 'apple']\n"
     ]
    }
   ],
   "source": [
    "fruits = ['banana', 'orange', 'mango', 'lemon']\n",
    "fruit = input('Enter the name of a fruit  ')\n",
    "if fruit in fruits:\n",
    "     print('That fruit already exist in the list')\n",
    "else:\n",
    "     fruits.append(fruit)\n",
    "     print('The fruit you entered does not exist in the list, and it has been added in the list', fruits)"
   ]
  },
  {
   "cell_type": "markdown",
   "id": "70bb2eb0",
   "metadata": {},
   "source": [
    "##### Question 4\n",
    "Here we have a person dictionary. Feel free to modify it!\n",
    "\n",
    "        person={\n",
    "    'first_name': 'Asabeneh',\n",
    "    'last_name': 'Yetayeh',\n",
    "    'age': 250,\n",
    "    'country': 'Finland',\n",
    "    'is_marred': True,\n",
    "    'skills': ['JavaScript', 'React', 'Node', 'MongoDB', 'Python'],\n",
    "    'address': {\n",
    "        'street': 'Space street',\n",
    "        'zipcode': '02210'\n",
    "    }\n",
    "    }\n",
    " * Check if the person dictionary has skills key, if so print out the middle skill in the skills list.\n",
    " * Check if the person dictionary has skills key, if so check if the person has 'Python' skill and print out the result.\n",
    " * If a person skills has only JavaScript and React, print('He is a front end developer'), if the person skills has Node, Python, MongoDB, print('He is a backend developer'), if the person skills has React, Node and MongoDB, Print('He is a fullstack developer'), else print('unknown title') - for more accurate results more conditions can be nested!\n",
    " * If the person is married and if he lives in Finlan"
   ]
  },
  {
   "cell_type": "code",
   "execution_count": 37,
   "id": "fa7aa5e6",
   "metadata": {},
   "outputs": [
    {
     "name": "stdout",
     "output_type": "stream",
     "text": [
      "The middle skill is :  Node\n",
      "The person have python skills\n",
      "unknown title\n",
      "Asabe Danladi Lives in Nigeria. He is Married\n"
     ]
    }
   ],
   "source": [
    "person={\n",
    "    'first_name': 'Asabe',\n",
    "    'last_name': 'Danladi',\n",
    "    'age': 250,\n",
    "    'country': 'Nigeria',\n",
    "    'is_marred': True,\n",
    "    'skills': ['JavaScript', 'React', 'Node', 'MongoDB', \n",
    "               'Python'],\n",
    "    'address': {\n",
    "        'street': 'Space street',\n",
    "        'zipcode': '02210'\n",
    "    }\n",
    "    }\n",
    "if 'skills' in person :\n",
    "     median = len( person['skills'])\n",
    "middle_item = median // 2\n",
    "\n",
    "print('The middle skill is : ',person['skills'][middle_item])\n",
    "\n",
    "\n",
    "if 'skills' in person:\n",
    "    if 'Python' in person['skills']:\n",
    "        print('The person have python skills')\n",
    "    else:\n",
    "        print('this person has no python skills')\n",
    "else:\n",
    "    print('this person dont have any skill')\n",
    "    \n",
    "    \n",
    "if person['skills'] == ['JavaScript', 'React'] :\n",
    "     print('He is a front end developer')\n",
    "elif ['Node', 'Python', 'MongoDB'] in person['skills']:\n",
    "     print('He is a backend developer')     \n",
    "elif ['React', 'Node', 'MongoDB'] in person['skills']  :\n",
    "     print ('He is a fullstack developer')\n",
    "else:\n",
    "     print ('unknown title') \n",
    "\n",
    "    \n",
    "if person['is_marred'] is True and person['country'] == 'Nigeria':\n",
    "     print(person['first_name'], person['last_name'], 'Lives in Nigeria. He is Married')\n",
    "else:\n",
    "    print(' Unknown person')\n"
   ]
  }
 ],
 "metadata": {
  "kernelspec": {
   "display_name": "Python 3 (ipykernel)",
   "language": "python",
   "name": "python3"
  },
  "language_info": {
   "codemirror_mode": {
    "name": "ipython",
    "version": 3
   },
   "file_extension": ".py",
   "mimetype": "text/x-python",
   "name": "python",
   "nbconvert_exporter": "python",
   "pygments_lexer": "ipython3",
   "version": "3.10.9"
  }
 },
 "nbformat": 4,
 "nbformat_minor": 5
}
