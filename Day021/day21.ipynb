{
 "cells": [
  {
   "attachments": {},
   "cell_type": "markdown",
   "metadata": {},
   "source": [
    "### Day 21"
   ]
  },
  {
   "attachments": {},
   "cell_type": "markdown",
   "metadata": {},
   "source": [
    "#### Exersices : Level 1"
   ]
  },
  {
   "attachments": {},
   "cell_type": "markdown",
   "metadata": {},
   "source": [
    "##### Question 1\n",
    " Python has the module called _statistics_ and we can use this module to do all the statistical calculations. However, to learn how to make function and reuse function let us try to develop a program, which calculates the measure of central tendency of a sample (mean, median, mode) and measure of variability (range, variance, standard deviation). In addition to those measures, find the min, max, count, percentile, and frequency distribution of the sample. You can create a class called Statistics and create all the functions that do statistical calculations as methods for the Statistics class. Check the output below.\n",
    "\n",
    "```py\n",
    "ages = [31, 26, 34, 37, 27, 26, 32, 32, 26, 27, 27, 24, 32, 33, 27, 25, 26, 38, 37, 31, 34, 24, 33, 29, 26]\n",
    "\n",
    "print('Count:', data.count()) # 25\n",
    "print('Sum: ', data.sum()) # 744\n",
    "print('Min: ', data.min()) # 24\n",
    "print('Max: ', data.max()) # 38\n",
    "print('Range: ', data.range() # 14\n",
    "print('Mean: ', data.mean()) # 30\n",
    "print('Median: ', data.median()) # 29\n",
    "print('Mode: ', data.mode()) # {'mode': 26, 'count': 5}\n",
    "print('Standard Deviation: ', data.std()) # 4.2\n",
    "print('Variance: ', data.var()) # 17.5\n",
    "print('Frequency Distribution: ', data.freq_dist()) # [(20.0, 26), (16.0, 27), (12.0, 32), (8.0, 37), (8.0, 34), (8.0, 33), (8.0, 31), (8.0, 24), (4.0, 38), (4.0, 29), (4.0, 25)]\n",
    "```\n",
    "\n",
    "```sh\n",
    "# you output should look like this\n",
    "print(data.describe())\n",
    "Count: 25\n",
    "Sum:  744\n",
    "Min:  24\n",
    "Max:  38\n",
    "Range:  14\n",
    "Mean:  30\n",
    "Median:  29\n",
    "Mode:  (26, 5)\n",
    "Variance:  17.5\n",
    "Standard Deviation:  4.2\n",
    "Frequency Distribution: [(20.0, 26), (16.0, 27), (12.0, 32), (8.0, 37), (8.0, 34), (8.0, 33), (8.0, 31), (8.0, 24), (4.0, 38), (4.0, 29), (4.0, 25)]"
   ]
  },
  {
   "cell_type": "code",
   "execution_count": 1,
   "metadata": {},
   "outputs": [
    {
     "name": "stdout",
     "output_type": "stream",
     "text": [
      "Count: 25\n",
      "Sum:  744\n",
      "Min:  24\n",
      "Max:  38\n",
      "Range:  14\n",
      "Mean:  30\n",
      "Median:  28\n",
      "Mode:  {'mode': 26, 'count': 5}\n",
      "Variance:  18.273333333333387\n"
     ]
    }
   ],
   "source": [
    "\n",
    "class Statistics:\n",
    "    def __init__(self, ages = [31, 26, 34, 37, 27, 26, 32, 32, 26, 27, 27, 24, 32, 33, 27, 25, 26, 38, 37, 31, 34, 24, 33, 29, 26]) -> None:\n",
    "        self.ages = ages\n",
    "    def count(self):\n",
    "        return len(self.ages)\n",
    "    \n",
    "    def sum (self):\n",
    "        return sum(self.ages)\n",
    "    \n",
    "    def min(self):\n",
    "        return min(self.ages)\n",
    "    \n",
    "    def max (self):\n",
    "        return max(self.ages)\n",
    "    \n",
    "    def range(self):\n",
    "        sorted_ages= sorted(self.ages)\n",
    "        range = sorted_ages[-1] - sorted_ages[0]\n",
    "        return range\n",
    "\n",
    "    def mean (self):\n",
    "        mean = sum(self.ages)/ len(self.ages)\n",
    "        return mean.__round__()\n",
    "    \n",
    "    def median(self):\n",
    "        self.ages.sort()     \n",
    "        if len(self.ages) // 2 == 1:\n",
    "            median = self.ages[len(self.ages)//2]\n",
    "        else:\n",
    "            median = ((self.ages[len(self.ages) // 2] + self.ages[len(self.ages)//2 - 1]) ) // 2\n",
    "        return   median\n",
    "    \n",
    "    def mode(self):\n",
    "        y = {}\n",
    "        for i in self.ages:\n",
    "            y[i] = y.get(i,0) + 1\n",
    "        \n",
    "        sorted_dict = sorted(y.items(),key =lambda x:x[1])\n",
    "\n",
    "        for i in sorted_dict:\n",
    "            mode= {'mode': i[0] , 'count' : i[1]}\n",
    "        return   mode    \n",
    "    \n",
    "    def var(self):\n",
    "        list_sum = sum( self.ages)\n",
    "        square_list_sum = list_sum ** 2\n",
    "        squared_list = []\n",
    "        for i in self.ages:\n",
    "            i = i ** 2\n",
    "            squared_list.append(i)\n",
    "        sum_squared_list = sum(squared_list)\n",
    "        sigma = (sum_squared_list - square_list_sum/len(squared_list))/(len(squared_list)-1)\n",
    "        return sigma\n",
    "\n",
    "   \n",
    "\n",
    "\n",
    "\n",
    "\n",
    "data = Statistics()\n",
    "print('Count:', data.count()) # 25\n",
    "print('Sum: ', data.sum()) # 744\n",
    "print('Min: ', data.min()) # 24\n",
    "print('Max: ', data.max()) # 38\n",
    "print('Range: ', data.range())#14\n",
    "print('Mean: ', data.mean())\n",
    "print('Median: ', data.median())\n",
    "print('Mode: ', data.mode()) # {'mode': 26, 'count': 5}\n",
    "print('Variance: ', data.var())# 17.5"
   ]
  },
  {
   "attachments": {},
   "cell_type": "markdown",
   "metadata": {},
   "source": [
    "#### Exercises : Level 2"
   ]
  },
  {
   "attachments": {},
   "cell_type": "markdown",
   "metadata": {},
   "source": [
    "##### Question 1\n",
    "Create a class called PersonAccount. It has firstname, lastname, incomes, expenses properties and it has total_income, total_expense, account_info, add_income, add_expense and account_balance methods. Incomes is a set of incomes and its description. The same goes for expenses."
   ]
  },
  {
   "cell_type": "code",
   "execution_count": null,
   "metadata": {},
   "outputs": [],
   "source": [
    "class PersonAccount:\n",
    "    def __init__(self,firstname,lastname,incomes,expenses) :\n",
    "        self.firstname = firstname\n",
    "        self.lastname = lastname\n",
    "        self.incomes = {}\n",
    "        self.expenses = {}\n",
    "\n",
    "\n",
    "    def total_income(self):\n",
    "        return sum(self.incomes)\n",
    "    \n",
    "    def total_expense(self):\n",
    "        return sum(self.expenses)\n",
    "    \n",
    "    def account_info(self):\n",
    "       return\n",
    "\n",
    "    def add_income(self, income, descrption):\n",
    "        self.incomes.append(income) \n",
    "\n",
    "    def add_expense(self,expense):\n",
    "        self.expenses.append(expense)   "
   ]
  }
 ],
 "metadata": {
  "kernelspec": {
   "display_name": "Python 3",
   "language": "python",
   "name": "python3"
  },
  "language_info": {
   "codemirror_mode": {
    "name": "ipython",
    "version": 3
   },
   "file_extension": ".py",
   "mimetype": "text/x-python",
   "name": "python",
   "nbconvert_exporter": "python",
   "pygments_lexer": "ipython3",
   "version": "3.11.0"
  },
  "orig_nbformat": 4,
  "vscode": {
   "interpreter": {
    "hash": "fb9b610eab4921576ab997c09d0c1c552d2f49ec8c532f5ef2f9f88daad97359"
   }
  }
 },
 "nbformat": 4,
 "nbformat_minor": 2
}
