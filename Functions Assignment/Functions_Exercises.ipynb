{
 "cells": [
  {
   "attachments": {},
   "cell_type": "markdown",
   "metadata": {},
   "source": [
    "#### 8-1. Message\n",
    "\n",
    " Write a function called display_message() that prints one sentence telling everyone what you are learning about in this chapter. Call the\n",
    "function, and make sure the message displays correctly."
   ]
  },
  {
   "cell_type": "code",
   "execution_count": 1,
   "metadata": {},
   "outputs": [
    {
     "name": "stdout",
     "output_type": "stream",
     "text": [
      "Hi every one, i am learning python functions in this chapter\n"
     ]
    }
   ],
   "source": [
    "def display_message():\n",
    "    print('Hi every one, i am learning python functions in this chapter')\n",
    "\n",
    "display_message()"
   ]
  },
  {
   "attachments": {},
   "cell_type": "markdown",
   "metadata": {},
   "source": [
    "#### 8-2. Favorite Book\n",
    " Write a function called favorite_book() that accepts one\n",
    "parameter, title. The function should print a message, such as One of my\n",
    "favorite books is Alice in Wonderland. Call the function, making sure to\n",
    "include a book title as an argument in the function call.\n"
   ]
  },
  {
   "cell_type": "code",
   "execution_count": 1,
   "metadata": {},
   "outputs": [
    {
     "name": "stdout",
     "output_type": "stream",
     "text": [
      "One of my favourite book is Harry Potter and the Goblet of Fire \n"
     ]
    }
   ],
   "source": [
    "def favorite_book(title):\n",
    "    print(f'One of my favourite book is {title}')\n",
    "\n",
    "favorite_book('Harry Potter and the Goblet of Fire ')    \n"
   ]
  },
  {
   "attachments": {},
   "cell_type": "markdown",
   "metadata": {},
   "source": [
    "##### 8-3 T-Shirt\n",
    "Write a function called make_shirt() that accepts a size and the\n",
    "text of a message that should be printed on the shirt. The function should print\n",
    "a sentence summarizing the size of the shirt and the message printed on it.\n",
    "Call the function once using positional arguments to make a shirt. Call the\n",
    "function a second time using keyword arguments.\n"
   ]
  },
  {
   "cell_type": "code",
   "execution_count": 3,
   "metadata": {},
   "outputs": [
    {
     "name": "stdout",
     "output_type": "stream",
     "text": [
      "The size of this shirt is large\n",
      "the message on the large size is :  I love Programming\n"
     ]
    }
   ],
   "source": [
    "def make_Shirt(message, size):\n",
    "    print(f'The size of this shirt is {size}')\n",
    "    print(f'The message on the {size} size is : ', message)\n",
    "\n",
    "make_Shirt('I love Programming', 'large')\n",
    "\n"
   ]
  },
  {
   "attachments": {},
   "cell_type": "markdown",
   "metadata": {},
   "source": [
    "##### 8-4. Large Shirts\n",
    " Modify the make_shirt() function so that shirts are large\n",
    "by default with a message that reads I love Python. Make a large shirt and a medium shirt with the default message, and a shirt of any size with a different\n",
    "message."
   ]
  },
  {
   "cell_type": "code",
   "execution_count": 6,
   "metadata": {},
   "outputs": [
    {
     "name": "stdout",
     "output_type": "stream",
     "text": [
      "The size of this shirt is Large\n",
      "The message on the Large size is :  I love Python\n",
      "The size of this shirt is Medium\n",
      "The message on the Medium size is :  I love Python\n",
      "The size of this shirt is Small\n",
      "The message on the Small size is :  Python is a little bit tricky\n"
     ]
    }
   ],
   "source": [
    "def make_Shirt(message = \"I love Python\", size = 'Large'):\n",
    "    print(f'The size of this shirt is {size}')\n",
    "    print(f'The message on the {size} size is : ', message)\n",
    "\n",
    "\n",
    "make_Shirt()\n",
    "make_Shirt(size='Medium')\n",
    "make_Shirt('Python is a little bit tricky' , 'Small')\n"
   ]
  },
  {
   "attachments": {},
   "cell_type": "markdown",
   "metadata": {},
   "source": [
    "##### 8-5. Cities \n",
    " Write a function called describe_city() that accepts the name of\n",
    "a city and its country. The function should print a simple sentence, such as Reykjavik is in Iceland. Give the parameter for the country a default value.Call your function for three different cities, at least one of which is not in the default country"
   ]
  },
  {
   "cell_type": "code",
   "execution_count": 9,
   "metadata": {},
   "outputs": [
    {
     "name": "stdout",
     "output_type": "stream",
     "text": [
      "Abuja is in Nigeria\n",
      "Zinder is in Niger\n",
      "Kano is in Nigeria\n"
     ]
    }
   ],
   "source": [
    "def describe_city(City, country ='Nigeria',  ):\n",
    "    print(f'{City} is in {country}')\n",
    "\n",
    "\n",
    "describe_city('Abuja')    \n",
    "describe_city('Zinder', \"Niger\")\n",
    "describe_city(\"Kano\")\n",
    "\n"
   ]
  },
  {
   "attachments": {},
   "cell_type": "markdown",
   "metadata": {},
   "source": [
    "##### 8-6. City Names\n",
    "Write a function called city_country() that takes in the name of a city and its country. The function should return a string formatted like this:\n",
    "\n",
    "\"Santiago, Chile\""
   ]
  },
  {
   "cell_type": "code",
   "execution_count": 5,
   "metadata": {},
   "outputs": [
    {
     "name": "stdout",
     "output_type": "stream",
     "text": [
      "Makkah, Saudi Arabia\n",
      "Santiago, Chile\n",
      "Kano, Nigeria\n"
     ]
    }
   ],
   "source": [
    "def city_country(city, country):\n",
    "    cicountry = f\"{city}, {country}\"\n",
    "    return cicountry.title()\n",
    "\n",
    "\n",
    "first= city_country(\"Makkah\",\"Saudi Arabia\")\n",
    "second = city_country(\"santiago\", \"chile\")\n",
    "third = city_country(\"kano\", \"nigeria\")\n",
    "\n",
    "print(first)\n",
    "print(second)\n",
    "print(third)"
   ]
  },
  {
   "attachments": {},
   "cell_type": "markdown",
   "metadata": {},
   "source": [
    "##### 8-7 Album\n",
    "Write a function called make_album() that builds a dictionary\n",
    "describing a music album. The function should take in an artist name and an album title, and it should return a dictionary containing these two pieces of information. Use the function to make three dictionaries representing different albums. Print each return value to show that the dictionaries are storing the album information correctly. Use None to add an optional parameter to make_album() that allows you to\n",
    "store the number of songs on an album. If the calling line includes a value for the number of songs, add that value to the album’s dictionary. Make at least one new function call that includes the number of songs on an album.\n"
   ]
  },
  {
   "cell_type": "code",
   "execution_count": 12,
   "metadata": {},
   "outputs": [
    {
     "name": "stdout",
     "output_type": "stream",
     "text": [
      "{'Artist Name': 'Zango', 'Album Name': 'Rap'}\n",
      "{'Artist Name': 'Mahir', 'Album Name': 'Salam'}\n",
      "{'Artist Name': 'Dan Dogarai', 'Album Name': 'Yabo', 'Number of Songs': 6}\n"
     ]
    }
   ],
   "source": [
    "def make_album(artist_name, album_name, number_songs=None):\n",
    "    album = {'Artist Name': artist_name, 'Album Name' : album_name}\n",
    "    if number_songs:\n",
    "        album['Number of Songs'] = number_songs\n",
    "    return album\n",
    "\n",
    "first = make_album('Zango','Rap')\n",
    "second = make_album('Mahir','Salam')\n",
    "third = make_album('Dan Dogarai', 'Yabo', number_songs=6)\n",
    "print(first)\n",
    "print(second)\n",
    "print(third)\n",
    "\n"
   ]
  },
  {
   "attachments": {},
   "cell_type": "markdown",
   "metadata": {},
   "source": [
    "##### 8-8. User Albums\n",
    " Start with your program from Exercise 8-7. Write a while loop that allows users to enter an album’s artist and title. Once you have that information, call make_album() with the user’s input and print the dictionary that’s created. Be sure to include a quit value in the while loop."
   ]
  },
  {
   "cell_type": "code",
   "execution_count": 3,
   "metadata": {},
   "outputs": [
    {
     "name": "stdout",
     "output_type": "stream",
     "text": [
      "please enter the details of the album : \n",
      "press q to quit\n",
      "{'Artist Name': 'jakehf', 'Album Name': 'jhaegrh', 'NUmber of songs': 4}\n",
      "please enter the details of the album : \n",
      "press q to quit\n"
     ]
    }
   ],
   "source": [
    "def make_album(artist_name, album_name, number_songs):\n",
    "    album = {'Artist Name': artist_name, 'Album Name' : album_name,\n",
    "              'NUmber of songs' : number_songs}\n",
    "    \n",
    "    return album\n",
    "\n",
    "\n",
    "while True:\n",
    "    print('please enter the details of the album : ')\n",
    "    print('press q to quit')\n",
    "    a = input('Artist Name : ')\n",
    "    if a == 'q' :\n",
    "        break\n",
    "\n",
    "    b = input('Album Name : ')\n",
    "    if b == 'q' :\n",
    "        break\n",
    "\n",
    "    c = int(input('Number of songs in the album : '))\n",
    "    if c == 'q':\n",
    "        break\n",
    "    \n",
    "    album_make = make_album(a, b,c )\n",
    "    print(album_make)\n"
   ]
  },
  {
   "attachments": {},
   "cell_type": "markdown",
   "metadata": {},
   "source": [
    "##### 8-9. Messages\n",
    "Make a list containing a series of short text messages. Pass the\n",
    "list to a function called show_messages(), which prints each text message."
   ]
  },
  {
   "cell_type": "code",
   "execution_count": 6,
   "metadata": {},
   "outputs": [
    {
     "name": "stdout",
     "output_type": "stream",
     "text": [
      "Hello There\n",
      "What Is Your Name\n",
      "Lets Print And See\n",
      "See What Is Written\n"
     ]
    }
   ],
   "source": [
    "def show_message(message):\n",
    "    for i  in message:\n",
    "        print (i.title())\n",
    "    \n",
    "sample_message = ['hello there','what is your name', 'lets print and see', 'see what is written' ]\n",
    "show_message(sample_message) \n"
   ]
  },
  {
   "attachments": {},
   "cell_type": "markdown",
   "metadata": {},
   "source": [
    "##### 8-10. Sending Messages\n",
    " Start with a copy of your program from Exercise 8-9.\n",
    "Write a function called send_messages() that prints each text message and moves each message to a new list called sent_messages as it’s printed. After calling the function, print both of your lists to make sure the messages were\n",
    "moved correctly"
   ]
  },
  {
   "cell_type": "code",
   "execution_count": 16,
   "metadata": {},
   "outputs": [
    {
     "name": "stdout",
     "output_type": "stream",
     "text": [
      "this is our message :  []\n",
      "here is a list of our sent messages : ['see what is written', 'lets print and see', 'what is your name', 'hello there']\n"
     ]
    }
   ],
   "source": [
    "def send_messages(message, sent_message):\n",
    "    while message:\n",
    "        new_message = message.pop()\n",
    "        sent_message.append(new_message)\n",
    "    return sent_message    \n",
    "    \n",
    "new_message=[]\n",
    "sample_message = ['hello there','what is your name', 'lets print and see', 'see what is written' ]\n",
    "send_messages( sample_message, new_message) \n",
    "print('this is our message list : ',sample_message)\n",
    "print('here is a list of our sent messages :', new_message)"
   ]
  },
  {
   "attachments": {},
   "cell_type": "markdown",
   "metadata": {},
   "source": [
    "##### 8-11. Archived Messages: \n",
    "Start with your work from Exercise 8-10. Call the function send_messages() with a copy of the list of messages. After calling the\n",
    "function, print both of your lists to show that the original list has retained its messages."
   ]
  },
  {
   "cell_type": "code",
   "execution_count": 17,
   "metadata": {},
   "outputs": [
    {
     "name": "stdout",
     "output_type": "stream",
     "text": [
      "this is our message list :  ['hello there', 'what is your name', 'lets print and see', 'see what is written']\n",
      "here is a list of our sent messages : ['see what is written', 'lets print and see', 'what is your name', 'hello there']\n"
     ]
    }
   ],
   "source": [
    "def send_messages(message, sent_message):\n",
    "    while message:\n",
    "        new_message = message.pop()\n",
    "        sent_message.append(new_message)\n",
    "    return sent_message    \n",
    "    \n",
    "new_message=[]\n",
    "sample_message = ['hello there','what is your name', 'lets print and see', 'see what is written' ]\n",
    "send_messages( sample_message [:], new_message) \n",
    "print('this is our message list : ',sample_message)\n",
    "print('here is a list of our sent messages :', new_message)"
   ]
  },
  {
   "attachments": {},
   "cell_type": "markdown",
   "metadata": {},
   "source": [
    "##### 8-12. Sandwiches:\n",
    " Write a function that accepts a list of items a person wants on a sandwich. The function should have one parameter that collects as many items as the function call provides, and it should print a summary of the sandwich that’s being ordered. Call the function three times, using a different number of arguments each time."
   ]
  },
  {
   "cell_type": "code",
   "execution_count": 18,
   "metadata": {},
   "outputs": [
    {
     "name": "stdout",
     "output_type": "stream",
     "text": [
      " I want ('egg',) on my sandwich\n",
      " I want ('tomato', 'onion', 'egg') on my sandwich\n",
      " I want ('meat', 'fish', 'onion', 'lettuce') on my sandwich\n"
     ]
    }
   ],
   "source": [
    "def sandwich(*items):\n",
    "    print(f' I want {items} on my sandwich')\n",
    "\n",
    "sandwich('egg')\n",
    "sandwich('tomato', 'onion', 'egg')\n",
    "sandwich('meat', 'fish', 'onion', 'lettuce')    "
   ]
  },
  {
   "attachments": {},
   "cell_type": "markdown",
   "metadata": {},
   "source": [
    "##### 8-13. User Profile\n",
    "Start with a copy of user_profile.py from page 149. Build a\n",
    "profile of yourself by calling build_profile(), using your first and last names and three other key-value pairs that describe you."
   ]
  },
  {
   "cell_type": "code",
   "execution_count": 22,
   "metadata": {},
   "outputs": [
    {
     "name": "stdout",
     "output_type": "stream",
     "text": [
      "{'Age': 100, 'is_alive': True, 'first name': 'Rahma', 'Last name': 'Aliyu'}\n"
     ]
    }
   ],
   "source": [
    "def build_profile(f_name, l_name , **Info):\n",
    "    Info['first name'] = f_name\n",
    "    Info['Last name'] = l_name\n",
    "    return Info\n",
    "\n",
    "Me = build_profile('Rahma', 'Aliyu', Age = 100, is_alive = True)\n",
    "print(Me)\n",
    "\n"
   ]
  },
  {
   "attachments": {},
   "cell_type": "markdown",
   "metadata": {},
   "source": [
    "##### 8-14. Cars\n",
    "Write a function that stores information about a car in a dictionary. The function should always receive a manufacturer and a model name. It\n",
    "should then accept an arbitrary number of keyword arguments. Call the function with the required information and two other name-value pairs, such as a color or an optional feature. Your function should work for a call like this one:"
   ]
  },
  {
   "cell_type": "code",
   "execution_count": 24,
   "metadata": {},
   "outputs": [
    {
     "name": "stdout",
     "output_type": "stream",
     "text": [
      "{'color': 'blue', 'tow_package': True, 'Manufacturer': 'subaru', 'Model ': 'outback'}\n"
     ]
    }
   ],
   "source": [
    "def make_car(Manufac, Model, **car):\n",
    "    car[\"Manufacturer\"] = Manufac\n",
    "    car[\"Model \"] = Model\n",
    "    return car\n",
    "\n",
    "car = make_car('subaru', 'outback', color='blue', tow_package=True)\n",
    "print(car)\n",
    "\n"
   ]
  },
  {
   "attachments": {},
   "cell_type": "markdown",
   "metadata": {},
   "source": [
    "##### 8-15. Printing Models:\n",
    " Put the functions for the example printing_models.py in a\n",
    "separate file called printing_functions.py. Write an import statement at the top of printing_models.py, and modify the file to use the imported functions"
   ]
  },
  {
   "cell_type": "code",
   "execution_count": 25,
   "metadata": {},
   "outputs": [
    {
     "name": "stdout",
     "output_type": "stream",
     "text": [
      "Printing model: c++\n",
      "Printing model: python\n",
      "Printing model: java\n"
     ]
    }
   ],
   "source": [
    "import printing_functions\n",
    "from printing_functions import print_models\n",
    "first_list= ['java', 'python', 'c++']\n",
    "second = []\n",
    "print_models(first_list,second)\n"
   ]
  },
  {
   "attachments": {},
   "cell_type": "markdown",
   "metadata": {},
   "source": [
    "##### 8-16. Imports \n",
    "Using a program you wrote that has one function in it, store that\n",
    "function in a separate file. Import the function into your main program file, and call the function using each of these approaches:\n",
    "\n",
    "import module_name\n",
    "from module_name import function_name\n",
    "from module_name import function_name as fn\n",
    "import module_name as mn\n",
    "from module_name import *"
   ]
  },
  {
   "attachments": {},
   "cell_type": "markdown",
   "metadata": {},
   "source": [
    "##### 8-17. Styling Functions\n",
    " Choose any three programs you wrote for this chapter,\n",
    "and make sure they follow the styling guidelines described in this section."
   ]
  },
  {
   "cell_type": "code",
   "execution_count": null,
   "metadata": {},
   "outputs": [],
   "source": [
    "def make_first_album(artist_name, album_name, number_songs):\n",
    "    # A function that builds a dictionary describing a music album. \n",
    "    # The function take in an artist name and an album title\n",
    "    # it return a dictionary containing these two pieces of information\n",
    "    album = {'Artist Name': artist_name, 'Album Name' : album_name,\n",
    "              'NUmber of songs' : number_songs}\n",
    "    \n",
    "    return album\n",
    "\n",
    "\n",
    "\n",
    "def make_album(artist_name, album_name, number_songs=None):\n",
    "    # This function is a modification of the above function, \n",
    "    # it  Use None to add an optional parameter to make_album()\n",
    "    #  that allows you to store the number of songs on an album\n",
    "    album = {'Artist Name': artist_name, 'Album Name' : album_name}\n",
    "    if number_songs:\n",
    "        album['Number of Songs'] = number_songs\n",
    "    return album\n",
    "\n",
    "first = make_album('Zango','Rap')\n",
    "second = make_album('Mahir','Salam')\n",
    "third = make_album('Dan Dogarai', 'Yabo', number_songs=6)\n",
    "print(first)\n",
    "print(second)\n",
    "print(third)\n",
    "\n",
    "\n",
    "\n",
    "\n",
    "\n",
    "def describe_city(City, country ='Nigeria',  ):\n",
    "    #this function acceppts city and its counrty and prints the city together with the country\n",
    "    print(f'{City} is in {country}')\n",
    "\n",
    "\n",
    "describe_city('Abuja')    \n",
    "describe_city('Zinder', \"Niger\")\n",
    "describe_city(\"Kano\")\n"
   ]
  }
 ],
 "metadata": {
  "kernelspec": {
   "display_name": "Python 3",
   "language": "python",
   "name": "python3"
  },
  "language_info": {
   "codemirror_mode": {
    "name": "ipython",
    "version": 3
   },
   "file_extension": ".py",
   "mimetype": "text/x-python",
   "name": "python",
   "nbconvert_exporter": "python",
   "pygments_lexer": "ipython3",
   "version": "3.8.18"
  },
  "orig_nbformat": 4,
  "vscode": {
   "interpreter": {
    "hash": "fb9b610eab4921576ab997c09d0c1c552d2f49ec8c532f5ef2f9f88daad97359"
   }
  }
 },
 "nbformat": 4,
 "nbformat_minor": 2
}
