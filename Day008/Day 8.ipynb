{
 "cells": [
  {
   "attachments": {},
   "cell_type": "markdown",
   "metadata": {},
   "source": [
    "#### Day 8"
   ]
  },
  {
   "attachments": {},
   "cell_type": "markdown",
   "metadata": {},
   "source": [
    "##### Question 1\n",
    "Create an empty dictionary called dog"
   ]
  },
  {
   "cell_type": "code",
   "execution_count": 3,
   "metadata": {},
   "outputs": [],
   "source": [
    "dog = {}"
   ]
  },
  {
   "attachments": {},
   "cell_type": "markdown",
   "metadata": {},
   "source": [
    "##### Question 2\n",
    "Add name, color, breed, legs, age to the dog dictionary"
   ]
  },
  {
   "cell_type": "code",
   "execution_count": 4,
   "metadata": {},
   "outputs": [],
   "source": [
    "dog['name'] = 'warrior'\n",
    "dog['color'] ='black'\n",
    "dog['breed'] = 'poodle'\n",
    "dog['legs'] = 'long'\n",
    "dog['age'] = '100'"
   ]
  },
  {
   "attachments": {},
   "cell_type": "markdown",
   "metadata": {},
   "source": [
    "##### Question 3\n",
    "Create a student dictionary and add first_name, last_name, gender, age, marital status, skills, country, city and address as keys for the dictionary\n"
   ]
  },
  {
   "cell_type": "code",
   "execution_count": 5,
   "metadata": {},
   "outputs": [],
   "source": [
    "student = {'first_name':'Audu',\n",
    "            'last_name':'Lawi',\n",
    "            'gender':'female',\n",
    "            'age':'70',\n",
    "            'is_married': True,\n",
    "            'skills':['html' , 'c++', 'php', 'java'],\n",
    "            'country':'Nigeria',\n",
    "            'city':'Kano',\n",
    "            'address':'No 1 Kurmi market Kano'\n",
    "}"
   ]
  },
  {
   "attachments": {},
   "cell_type": "markdown",
   "metadata": {},
   "source": [
    "##### Question 4\n",
    "Get the length of the student dictionary"
   ]
  },
  {
   "cell_type": "code",
   "execution_count": 6,
   "metadata": {},
   "outputs": [
    {
     "name": "stdout",
     "output_type": "stream",
     "text": [
      "The lenght of the dictionary is :  9\n"
     ]
    }
   ],
   "source": [
    "print('The lenght of the dictionary is : ', len(student))"
   ]
  },
  {
   "attachments": {},
   "cell_type": "markdown",
   "metadata": {},
   "source": [
    "##### Question 5\n",
    "Get the value of skills and check the data type, it should be a list\n"
   ]
  },
  {
   "cell_type": "code",
   "execution_count": 7,
   "metadata": {},
   "outputs": [
    {
     "name": "stdout",
     "output_type": "stream",
     "text": [
      "the value of skills is :  ['html', 'c++', 'php', 'java']  and its type is  <class 'list'>\n"
     ]
    }
   ],
   "source": [
    "print('the value of skills is : ', student.get('skills'), ' and its type is ', type(student['skills']))\n"
   ]
  },
  {
   "attachments": {},
   "cell_type": "markdown",
   "metadata": {},
   "source": [
    "##### Question 6\n",
    "Modify the skills values by adding one or two skills"
   ]
  },
  {
   "cell_type": "code",
   "execution_count": 8,
   "metadata": {},
   "outputs": [
    {
     "name": "stdout",
     "output_type": "stream",
     "text": [
      "Students skills after adding python  ['html', 'c++', 'php', 'java', 'Python']\n"
     ]
    }
   ],
   "source": [
    "student ['skills'].append ('Python')\n",
    "print('Students skills after adding python ', student['skills'])"
   ]
  },
  {
   "attachments": {},
   "cell_type": "markdown",
   "metadata": {},
   "source": [
    "##### Question 7\n",
    "Get the dictionary keys as a list"
   ]
  },
  {
   "cell_type": "code",
   "execution_count": 9,
   "metadata": {},
   "outputs": [
    {
     "name": "stdout",
     "output_type": "stream",
     "text": [
      "the list of keys in the dictionary is  dict_keys(['first_name', 'last_name', 'gender', 'age', 'is_married', 'skills', 'country', 'city', 'address'])\n"
     ]
    }
   ],
   "source": [
    "print('the list of keys in the dictionary is ', student.keys())"
   ]
  },
  {
   "attachments": {},
   "cell_type": "markdown",
   "metadata": {},
   "source": [
    "##### Question 8\n",
    "Get the dictionary values as a list"
   ]
  },
  {
   "cell_type": "code",
   "execution_count": 10,
   "metadata": {},
   "outputs": [
    {
     "name": "stdout",
     "output_type": "stream",
     "text": [
      "the list of values in the dictionary is  dict_values(['Audu', 'Lawi', 'female', '70', True, ['html', 'c++', 'php', 'java', 'Python'], 'Nigeria', 'Kano', 'No 1 Kurmi market Kano'])\n"
     ]
    }
   ],
   "source": [
    "print('the list of values in the dictionary is ', student.values())"
   ]
  },
  {
   "attachments": {},
   "cell_type": "markdown",
   "metadata": {},
   "source": [
    "##### Question 9\n",
    "Change the dictionary to a list of tuples using items() method"
   ]
  },
  {
   "cell_type": "code",
   "execution_count": 11,
   "metadata": {},
   "outputs": [
    {
     "name": "stdout",
     "output_type": "stream",
     "text": [
      "the list of tuples of the keysand values in the dictionary are  dict_items([('first_name', 'Audu'), ('last_name', 'Lawi'), ('gender', 'female'), ('age', '70'), ('is_married', True), ('skills', ['html', 'c++', 'php', 'java', 'Python']), ('country', 'Nigeria'), ('city', 'Kano'), ('address', 'No 1 Kurmi market Kano')])\n"
     ]
    }
   ],
   "source": [
    "print('the list of tuples of the keysand values in the dictionary are ', student.items())"
   ]
  },
  {
   "attachments": {},
   "cell_type": "markdown",
   "metadata": {},
   "source": [
    "##### Question 10\n",
    "Delete one of the items in the dictionary"
   ]
  },
  {
   "cell_type": "code",
   "execution_count": 12,
   "metadata": {},
   "outputs": [
    {
     "name": "stdout",
     "output_type": "stream",
     "text": [
      "the dictionary after deleting the last item is :  {'first_name': 'Audu', 'last_name': 'Lawi', 'gender': 'female', 'age': '70', 'is_married': True, 'skills': ['html', 'c++', 'php', 'java', 'Python'], 'country': 'Nigeria', 'city': 'Kano'}\n"
     ]
    }
   ],
   "source": [
    "student.popitem()\n",
    "print('the dictionary after deleting the last item is : ', student)"
   ]
  },
  {
   "attachments": {},
   "cell_type": "markdown",
   "metadata": {},
   "source": [
    "##### Question 11\n",
    "Delete one of the dictionaries"
   ]
  },
  {
   "cell_type": "code",
   "execution_count": 13,
   "metadata": {},
   "outputs": [],
   "source": [
    "del dog"
   ]
  }
 ],
 "metadata": {
  "kernelspec": {
   "display_name": "Python 3",
   "language": "python",
   "name": "python3"
  },
  "language_info": {
   "codemirror_mode": {
    "name": "ipython",
    "version": 3
   },
   "file_extension": ".py",
   "mimetype": "text/x-python",
   "name": "python",
   "nbconvert_exporter": "python",
   "pygments_lexer": "ipython3",
   "version": "3.8.18"
  },
  "orig_nbformat": 4,
  "vscode": {
   "interpreter": {
    "hash": "fb9b610eab4921576ab997c09d0c1c552d2f49ec8c532f5ef2f9f88daad97359"
   }
  }
 },
 "nbformat": 4,
 "nbformat_minor": 2
}
