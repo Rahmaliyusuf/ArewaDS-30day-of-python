{
 "cells": [
  {
   "attachments": {},
   "cell_type": "markdown",
   "metadata": {},
   "source": [
    "### Day 18"
   ]
  },
  {
   "attachments": {},
   "cell_type": "markdown",
   "metadata": {},
   "source": [
    "#### Exercises Level 1"
   ]
  },
  {
   "attachments": {},
   "cell_type": "markdown",
   "metadata": {},
   "source": [
    "##### Question 1\n",
    "What is the most frequent word in the following paragraph?\n",
    " paragraph = 'I love teaching. If you do not love teaching what else can you love. I love Python if you do not love something which can give you all the capabilities to develop an application what else can you love.\n",
    "   \n",
    "    [\n",
    "    (6, 'love'),\n",
    "    (5, 'you'),\n",
    "    (3, 'can'),\n",
    "    (2, 'what'),\n",
    "    (2, 'teaching'),\n",
    "    (2, 'not'),\n",
    "    (2, 'else'),\n",
    "    (2, 'do'),\n",
    "    (2, 'I'),\n",
    "    (1, 'which'),\n",
    "    (1, 'to'),\n",
    "    (1, 'the'),\n",
    "    (1, 'something'),\n",
    "    (1, 'if'),\n",
    "    (1, 'give'),\n",
    "    (1, 'develop'),\n",
    "    (1, 'capabilities'),\n",
    "    (1, 'application'),\n",
    "    (1, 'an'),\n",
    "    (1, 'all'),\n",
    "    (1, 'Python'),\n",
    "    (1, 'If')\n",
    "    ]"
   ]
  },
  {
   "cell_type": "code",
   "execution_count": 9,
   "metadata": {},
   "outputs": [
    {
     "name": "stdout",
     "output_type": "stream",
     "text": [
      "[('you', 5), ('love', 4), ('can', 3), ('I', 2), ('do', 2), ('not', 2), ('what', 2), ('else', 2), ('love.', 2), ('teaching.', 1), ('If', 1), ('teaching', 1), ('Python', 1), ('if', 1), ('something', 1), ('which', 1), ('give', 1), ('all', 1), ('the', 1), ('capabilities', 1), ('to', 1), ('develop', 1), ('an', 1), ('application', 1)]\n"
     ]
    }
   ],
   "source": [
    "from collections import Counter\n",
    "\n",
    "paragraph = 'I love teaching. If you do not love teaching what else can you love. I love Python if you do not love something which can give you all the capabilities to develop an application what else can you love.'\n",
    "words = paragraph.split()\n",
    "N0_Of_Words = Counter(words)\n",
    "list_of_words = [(i, j) for i, j in N0_Of_Words.items()]\n",
    "list_of_words.sort(key=lambda x: x[1], reverse=True)\n",
    "\n",
    "print(list_of_words)\n",
    "\n"
   ]
  },
  {
   "attachments": {},
   "cell_type": "markdown",
   "metadata": {},
   "source": [
    "##### Question 2\n",
    "The position of some particles on the horizontal x-axis are -12, -4, -3 and -1 in the negative direction, 0 at origin, 4 and 8 in the positive direction. Extract these numbers from this whole text and find the distance between the two furthest particles."
   ]
  },
  {
   "cell_type": "code",
   "execution_count": 2,
   "metadata": {},
   "outputs": [
    {
     "name": "stdout",
     "output_type": "stream",
     "text": [
      "points :  [-1, 2, -4, -3, -1, 0, 4, 8]\n",
      "Sorted Points  [-4, -3, -1, -1, 0, 2, 4, 8]\n",
      "distance =  8  - (-4) 12\n"
     ]
    }
   ],
   "source": [
    "import re\n",
    "\n",
    "Question = \"The position of some particles on the horizontal x-axis are -12, -4, -3 and -1 in the negative direction, 0 at origin, 4 and 8 in the positive direction.\"\n",
    "distance = r\"\\d|-\\d\"\n",
    "points = re.findall(distance, Question)  \n",
    "points = list(map(int, points)) \n",
    "print(\"points : \" , points) \n",
    "sorted_points = sorted(points) \n",
    "print('Sorted Points ', sorted_points)\n",
    "distance = sorted_points[-1] - sorted_points[0]  \n",
    "\n",
    "print(f\"distance =  {sorted_points[-1]} - ({sorted_points[0]})\", distance)\n"
   ]
  },
  {
   "attachments": {},
   "cell_type": "markdown",
   "metadata": {},
   "source": [
    "#### Exercises Level 2"
   ]
  },
  {
   "attachments": {},
   "cell_type": "markdown",
   "metadata": {},
   "source": [
    "##### Question 1\n",
    "Write a pattern which identifies if a string is a valid python variable\n",
    "\n",
    "is_valid_variable('first_name') # True\n",
    "is_valid_variable('first-name') # False\n",
    "is_valid_variable('1first_name') # False\n",
    "is_valid_variable('firstname') # True\n"
   ]
  },
  {
   "cell_type": "code",
   "execution_count": 10,
   "metadata": {},
   "outputs": [
    {
     "name": "stdout",
     "output_type": "stream",
     "text": [
      "False\n",
      "True\n",
      "True\n",
      "False\n"
     ]
    }
   ],
   "source": [
    "import re\n",
    "\n",
    "def is_valid_variable(x):\n",
    "    Var = r'^[_a-z]\\w*$'\n",
    "    if re.match(Var, x):\n",
    "        result = True\n",
    "    else:\n",
    "        result= False\n",
    "    return result\n",
    "\n",
    "\n",
    "one = is_valid_variable('1first_name') \n",
    "two = is_valid_variable('firstname') \n",
    "Three = is_valid_variable('first_name') \n",
    "four = is_valid_variable('first-name')\n",
    "print(one)\n",
    "print(two)\n",
    "print(Three)\n",
    "print(four)\n",
    "\n"
   ]
  },
  {
   "attachments": {},
   "cell_type": "markdown",
   "metadata": {},
   "source": [
    "#### Exercises Level 3"
   ]
  },
  {
   "attachments": {},
   "cell_type": "markdown",
   "metadata": {},
   "source": [
    "##### Question 1\n",
    "Clean the following text. After cleaning, count three most frequent words in the string."
   ]
  },
  {
   "cell_type": "code",
   "execution_count": 8,
   "metadata": {},
   "outputs": [
    {
     "name": "stdout",
     "output_type": "stream",
     "text": [
      "the Sentence before cleaning \n",
      " %I $am@% a %tea@cher%, &and& I lo%#ve %tea@ching%;. There $is nothing; &as& mo@re rewarding as educa@ting &and& @emp%o@wering peo@ple. ;I found tea@ching m%o@re interesting tha@n any other %jo@bs. %Do@es thi%s mo@tivate yo@u to be a tea@cher!?\n",
      "the Sentence after cleaning \n",
      " I am a teacher and I love teaching There is nothing as more rewarding as educating and empowering people I found teaching more interesting than any other jobs Does this motivate you to be a teacher\n",
      " 3 most frequent words are \n",
      " [('I', 3), ('a', 2), ('teacher', 2)]\n"
     ]
    }
   ],
   "source": [
    "import re\n",
    "from collections import Counter\n",
    "def clean_text(x):\n",
    "    cleaned_text = re.sub('[^a-zA-Z\\s]', '', x)\n",
    "    return cleaned_text\n",
    "\n",
    "def most_frequent_words(x):\n",
    "    N0_Of_Words = Counter(clean_text(x).split())\n",
    "    Most_Frequent = [(i, j) for i, j in N0_Of_Words.items()]\n",
    "    Most_Frequent.sort(key=lambda x: x[1], reverse=True)\n",
    "    Three_most_Frequent = Most_Frequent[:3]\n",
    "    return Three_most_Frequent\n",
    "\n",
    "\n",
    "sentence = '%I $am@% a %tea@cher%, &and& I lo%#ve %tea@ching%;. There $is nothing; &as& mo@re rewarding as educa@ting &and& @emp%o@wering peo@ple. ;I found tea@ching m%o@re interesting tha@n any other %jo@bs. %Do@es thi%s mo@tivate yo@u to be a tea@cher!?'\n",
    "print(\"the Sentence before cleaning \\n\",sentence)\n",
    "print(\"the Sentence after cleaning \\n\",clean_text(sentence))\n",
    "cleaned_text = clean_text(sentence)\n",
    "print( ' 3 most frequent words are \\n',most_frequent_words(cleaned_text)) \n",
    "\n",
    "\n",
    "\n"
   ]
  }
 ],
 "metadata": {
  "kernelspec": {
   "display_name": "Python 3",
   "language": "python",
   "name": "python3"
  },
  "language_info": {
   "codemirror_mode": {
    "name": "ipython",
    "version": 3
   },
   "file_extension": ".py",
   "mimetype": "text/x-python",
   "name": "python",
   "nbconvert_exporter": "python",
   "pygments_lexer": "ipython3",
   "version": "3.11.0"
  },
  "orig_nbformat": 4,
  "vscode": {
   "interpreter": {
    "hash": "fb9b610eab4921576ab997c09d0c1c552d2f49ec8c532f5ef2f9f88daad97359"
   }
  }
 },
 "nbformat": 4,
 "nbformat_minor": 2
}
