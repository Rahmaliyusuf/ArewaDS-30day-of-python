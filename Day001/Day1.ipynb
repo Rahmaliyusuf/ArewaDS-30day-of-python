{
 "cells": [
  {
   "cell_type": "markdown",
   "metadata": {},
   "source": [
    "## Day 1"
   ]
  },
  {
   "cell_type": "markdown",
   "metadata": {},
   "source": [
    "### Question 2"
   ]
  },
  {
   "cell_type": "code",
   "execution_count": null,
   "metadata": {},
   "outputs": [],
   "source": [
    "print(5 + 6)   \n",
    "print(5 - 6)   \n",
    "print(5 * 6)   \n",
    "print(5 / 6)  \n",
    "print(5 ** 6)  \n",
    "print(6 % 5)   \n",
    "print(6 // 5) \n"
   ]
  },
  {
   "cell_type": "markdown",
   "metadata": {},
   "source": [
    "### Question 3"
   ]
  },
  {
   "cell_type": "code",
   "execution_count": null,
   "metadata": {},
   "outputs": [],
   "source": [
    "print('Rahma')\n",
    "print(type('Aliyu'))    \n",
    "print(type(\"Nigeria\"))\n",
    "print('I am enjoying 30 days of python')"
   ]
  },
  {
   "cell_type": "markdown",
   "metadata": {},
   "source": [
    "### Question 4"
   ]
  },
  {
   "cell_type": "code",
   "execution_count": null,
   "metadata": {},
   "outputs": [],
   "source": [
    "print(type(12))                 \n",
    "print(type(9.8))                \n",
    "print(type(3.14))            \n",
    "print(type(4 - 4j))          \n",
    "print(type(['Asabeneh','Python', 'Finland']))           \n",
    "print(type('Rahma')) \n",
    "print(type('Aliyu'))    \n",
    "print(type(\"Nigeria\"))"
   ]
  },
  {
   "cell_type": "markdown",
   "metadata": {},
   "source": [
    "## Exercise Level 2"
   ]
  },
  {
   "cell_type": "markdown",
   "metadata": {},
   "source": [
    "### Question 1"
   ]
  },
  {
   "cell_type": "code",
   "execution_count": null,
   "metadata": {},
   "outputs": [],
   "source": [
    "#integer\n",
    "print(-5)\n",
    "#float\n",
    "print(0.337)\n",
    "#complex\n",
    "print(3-3j)\n",
    "#string\n",
    "print('hello world')\n",
    "#boolean\n",
    "print(20.0 is 20)\n",
    "#list\n",
    "Items = ['Goat', 'Yam', 'Road', 'Zebra', 'House']\n",
    "#tuple\n",
    "tpl = ( )\n",
    "#sets\n",
    "st = {}\n",
    "#dictionary\n",
    "dict = {}"
   ]
  },
  {
   "cell_type": "markdown",
   "metadata": {},
   "source": [
    "### Question 2"
   ]
  },
  {
   "cell_type": "code",
   "execution_count": null,
   "metadata": {},
   "outputs": [],
   "source": [
    "print((((3 ** 2 - 2**2)**2) + ((10 ** 2 - 2**2)**2)) ** 1/2)"
   ]
  }
 ],
 "metadata": {
  "language_info": {
   "name": "python"
  }
 },
 "nbformat": 4,
 "nbformat_minor": 2
}
