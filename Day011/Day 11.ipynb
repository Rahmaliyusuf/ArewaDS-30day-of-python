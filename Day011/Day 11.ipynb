{
 "cells": [
  {
   "attachments": {},
   "cell_type": "markdown",
   "metadata": {},
   "source": [
    "### Day 11\n"
   ]
  },
  {
   "attachments": {},
   "cell_type": "markdown",
   "metadata": {},
   "source": [
    "#### Exercises Level 1"
   ]
  },
  {
   "attachments": {},
   "cell_type": "markdown",
   "metadata": {},
   "source": [
    "##### Question 1\n",
    "Declare a function add_two_numbers. It takes two parameters and it returns a sum."
   ]
  },
  {
   "cell_type": "code",
   "execution_count": 1,
   "metadata": {},
   "outputs": [
    {
     "name": "stdout",
     "output_type": "stream",
     "text": [
      "we call ouur function here 5\n"
     ]
    }
   ],
   "source": [
    "def add_two_numbers(a, b):\n",
    "    #A function that takes two parameters and it returns a sum.\n",
    "    sum = a+b\n",
    "    return sum\n",
    "\n",
    "print('We call ouur function here to add two numbers. /n 3 and 2  equal s :', add_two_numbers(2,3) )\n",
    "\n"
   ]
  },
  {
   "attachments": {},
   "cell_type": "markdown",
   "metadata": {},
   "source": [
    "##### Question 2\n",
    "Area of a circle is calculated as follows: area = π x r x r. Write a function that calculates area_of_circle.\n"
   ]
  },
  {
   "cell_type": "code",
   "execution_count": 3,
   "metadata": {},
   "outputs": [
    {
     "name": "stdout",
     "output_type": "stream",
     "text": [
      "We call our function here to  calculate area of a circle with a radius of five.The area is : 78.55\n"
     ]
    }
   ],
   "source": [
    "def area_of_circle(r):\n",
    "    pi = 3.142\n",
    "    Area = pi * r * r\n",
    "    return Area\n",
    "\n",
    "print('We call our function here to  calculate area of a circle with a radius of five.The area is :', area_of_circle(5))    "
   ]
  },
  {
   "attachments": {},
   "cell_type": "markdown",
   "metadata": {},
   "source": [
    "##### Question 3\n",
    "Write a function called add_all_nums which takes arbitrary number of arguments and sums all the arguments. Check if all the list items are number types. If not do give a reasonable feedback."
   ]
  },
  {
   "cell_type": "code",
   "execution_count": 15,
   "metadata": {},
   "outputs": [
    {
     "name": "stdout",
     "output_type": "stream",
     "text": [
      "The sum of 7 numbers by calling our function 152\n"
     ]
    }
   ],
   "source": [
    "def add_all_nums(*nums):\n",
    "    # function which takes arbitrary number of arguments and sums all the arguments.\n",
    "    #  It  Checks if all the list items are number types. \n",
    "    sum = 0\n",
    "    for i in nums:\n",
    "        sum += i\n",
    "    if all(isinstance(i,(int)) for i in nums):   \n",
    "        return sum \n",
    "    else:\n",
    "        return 'please the list should contain only numbers'\n",
    "\n",
    "\n",
    "\n",
    "print('The sum of 7 numbers by calling our function', add_all_nums(2,5,6,7,8,23,101))\n",
    "#print('The result when the list contain another data type other than numbers', add_all_nums(2,4,'haj', 3))\n"
   ]
  },
  {
   "attachments": {},
   "cell_type": "markdown",
   "metadata": {},
   "source": [
    "##### Question 4\n",
    "Temperature in °C can be converted to °F using this formula: °F = (°C x 9/5) + 32. Write a function which converts °C to °F, convert_celsius_to-fahrenheit.\n"
   ]
  },
  {
   "cell_type": "code",
   "execution_count": 16,
   "metadata": {},
   "outputs": [
    {
     "name": "stdout",
     "output_type": "stream",
     "text": [
      "100 Celcius converted to ferinheit equals  212.0 F\n"
     ]
    }
   ],
   "source": [
    "def Convers_Celcius(C):\n",
    "    # A function that converts celcius to fehrenheit\n",
    "    F = (C * (9/5)) + 32\n",
    "    print('100 Celcius converted to ferinheit equals ',F, 'F' )\n",
    "\n",
    "\n",
    "Convers_Celcius(100)"
   ]
  },
  {
   "attachments": {},
   "cell_type": "markdown",
   "metadata": {},
   "source": [
    "##### Question 5\n",
    "Write a function called check-season, it takes a month parameter and returns the season: Autumn, Winter, Spring or Summer"
   ]
  },
  {
   "cell_type": "code",
   "execution_count": 20,
   "metadata": {},
   "outputs": [
    {
     "name": "stdout",
     "output_type": "stream",
     "text": [
      "the season is summer\n"
     ]
    }
   ],
   "source": [
    "def check_season(month):\n",
    "    # A funtion that takes a month parameter and returns the season: Autumn, Winter, Spring or Summer.\n",
    "    Months = [ 'September','October', 'November',' December', 'January ','February', \n",
    "         'March', 'April', 'May', 'June', 'July' ,'August' ]    \n",
    "    \n",
    "    if month in  Months[:3] :\n",
    "            print('the season is Autumn')\n",
    "    elif month in Months[3:6] :\n",
    "           print('the season is winter') \n",
    "    elif month in Months[6:9] :\n",
    "           print('season is Spring')\n",
    "    else:\n",
    "            print('the season is summer') \n",
    "\n",
    "Month = input('enter a month to check its season (first letter in capital)')\n",
    "check_season(Month)            "
   ]
  },
  {
   "attachments": {},
   "cell_type": "markdown",
   "metadata": {},
   "source": [
    "##### Question 6\n",
    "Write a function called calculate_slope which return the slope of a linear equation"
   ]
  },
  {
   "cell_type": "code",
   "execution_count": null,
   "metadata": {},
   "outputs": [],
   "source": [
    "def calculate_slope(y1,y2,x1,x2):\n",
    "    # A function that calculates the slope of a linear equation\n",
    "    slope = (y1 - y2) / (x2 - x1)\n",
    "    return slope\n",
    "\n",
    "\n",
    "print('the slope is equal to : ', calculate_slope(4,8,9,2))\n"
   ]
  },
  {
   "attachments": {},
   "cell_type": "markdown",
   "metadata": {},
   "source": [
    "##### Question 7\n",
    "Quadratic equation is calculated as follows: ax² + bx + c = 0. Write a function which calculates solution set of a quadratic equation, solve_quadratic_eqn.\n"
   ]
  },
  {
   "cell_type": "code",
   "execution_count": null,
   "metadata": {},
   "outputs": [],
   "source": [
    "def solve_quadratic_eqn_(a, b, c):\n",
    "   # A function that calculates set of a quadratic equation\n",
    "   B_inSqrt = (((b **2) -( 4* (a*c) ))**(1/2))\n",
    "   x1 = (-(b) + B_inSqrt) / (2* a)\n",
    "   x2 = (-(b) - B_inSqrt) / (2* a)\n",
    "   print('The first valueof x is : ', x1)\n",
    "   print('The second valueof x is : ', x2)\n",
    "\n",
    "\n",
    "a = int(input('Enter the coefficient of X^2 '))\n",
    "b =int (input('Enter the coefficient of X'))\n",
    "c =int (input('Enter the value of c '))\n",
    "solve_quadratic_eqn_(a,b,c)"
   ]
  },
  {
   "attachments": {},
   "cell_type": "markdown",
   "metadata": {},
   "source": [
    "##### Question 8\n",
    "Declare a function named print_list. It takes a list as a parameter and it prints out each element of the list."
   ]
  },
  {
   "cell_type": "code",
   "execution_count": 1,
   "metadata": {},
   "outputs": [
    {
     "name": "stdout",
     "output_type": "stream",
     "text": [
      "Goat\n",
      "Yam\n",
      "Road\n",
      "Zebra\n",
      "House\n"
     ]
    }
   ],
   "source": [
    "def print_list(my_list):\n",
    "# A function that takes a list as a parameter and it prints out each element of the list\n",
    "    for i in my_list:\n",
    "        print (i)\n",
    "\n",
    "\n",
    "items = ['Goat', 'Yam', 'Road', 'Zebra', 'House']\n",
    "print_list(items)\n"
   ]
  },
  {
   "attachments": {},
   "cell_type": "markdown",
   "metadata": {},
   "source": [
    "##### Question 9\n",
    "Declare a function named reverse_list. It takes an array as a parameter and it returns the reverse of the array (use loops).\n",
    "print(reverse_list([1, 2, 3, 4, 5]))\n",
    "# [5, 4, 3, 2, 1]\n",
    "print(reverse_list1([\"A\", \"B\", \"C\"]))\n",
    "# [\"C\", \"B\", \"A\"]\n"
   ]
  },
  {
   "cell_type": "code",
   "execution_count": 4,
   "metadata": {},
   "outputs": [
    {
     "name": "stdout",
     "output_type": "stream",
     "text": [
      "[5, 4, 3, 2, 1]\n",
      "['C', 'B', 'A']\n"
     ]
    }
   ],
   "source": [
    "def reverse_list(List_Reverse):\n",
    "# A function  that takes an array as a parameter \n",
    "# and it returns the reverse of the array.    \n",
    "    List_reversed = [] \n",
    "    lenght = len(List_Reverse)\n",
    "    while lenght > 0:\n",
    "        List_reversed.append(List_Reverse[lenght-1])\n",
    "        lenght= lenght- 1\n",
    "    return(List_reversed) \n",
    "\n",
    "print(reverse_list([1, 2, 3, 4, 5]))\n",
    "print(reverse_list([\"A\", \"B\", \"C\"]))\n",
    "\n"
   ]
  },
  {
   "attachments": {},
   "cell_type": "markdown",
   "metadata": {},
   "source": [
    "##### Question 10\n",
    "Declare a function named capitalize_list_items. It takes a list as a parameter and it returns a capitalized list of items"
   ]
  },
  {
   "cell_type": "code",
   "execution_count": 38,
   "metadata": {},
   "outputs": [
    {
     "name": "stdout",
     "output_type": "stream",
     "text": [
      "['POTATO', 'TOMATO', 'MANGO', 'MILK']\n"
     ]
    }
   ],
   "source": [
    "def capitalize_list_items(item_list1): \n",
    "#A function that takes a list as a parameter and it returns a capitalized list of items\n",
    "    return[x.upper() for x in item_list1]\n",
    "    \n",
    "\n",
    "food_staff = ['Potato', 'Tomato', 'Mango', 'Milk'];\n",
    "print(capitalize_list_items(food_staff,)) "
   ]
  },
  {
   "attachments": {},
   "cell_type": "markdown",
   "metadata": {},
   "source": [
    "##### Question 11\n",
    "Declare a function named add_item. It takes a list and an item parameters. It returns a list with the item added at the end.\n",
    "food_staff = ['Potato', 'Tomato', 'Mango', 'Milk'];\n",
    "print(add_item(food_staff, 'Meat'))     # ['Potato', 'Tomato', 'Mango', 'Milk','Meat'];\n",
    "numbers = [2, 3, 7, 9];\n",
    "print(add_item(numbers, 5))      [2, 3, 7, 9, 5]"
   ]
  },
  {
   "cell_type": "code",
   "execution_count": 7,
   "metadata": {},
   "outputs": [
    {
     "name": "stdout",
     "output_type": "stream",
     "text": [
      "['Potato', 'Tomato', 'Mango', 'Milk', 'Meat']\n",
      "[2, 3, 7, 9, 5]\n"
     ]
    }
   ],
   "source": [
    "def add_item(item_list, item):\n",
    "# A function that  takes a list and an item parameters.\n",
    "#  It returns the list with the item added at the end.\n",
    "    item_list = list(item_list)\n",
    "    item_list.append(item)\n",
    "    return item_list\n",
    "\n",
    "food_staff = ['Potato', 'Tomato', 'Mango', 'Milk'];\n",
    "print(add_item(food_staff, 'Meat')) \n",
    "numbers = [2, 3, 7, 9]\n",
    "print(add_item(numbers, 5)) "
   ]
  },
  {
   "attachments": {},
   "cell_type": "markdown",
   "metadata": {},
   "source": [
    "##### Question 12\n",
    "Declare a function named remove_item. It takes a list and an item parameters. It returns a list with the item removed from it.\n",
    "food_staff = ['Potato', 'Tomato', 'Mango', 'Milk'];\n",
    "print(remove_item(food_staff, 'Mango'))  # ['Potato', 'Tomato', 'Milk'];\n",
    "numbers = [2, 3, 7, 9];\n",
    "print(remove_item(numbers, 3))  # [2, 7, 9]"
   ]
  },
  {
   "cell_type": "code",
   "execution_count": 41,
   "metadata": {},
   "outputs": [
    {
     "name": "stdout",
     "output_type": "stream",
     "text": [
      "['Potato', 'Tomato', 'Milk']\n",
      "[2, 7, 9]\n"
     ]
    }
   ],
   "source": [
    "def remove_item(items_list, item):\n",
    "#A function named remove_item. It takes a list and an item parameters\n",
    "#It returns a list with the item removed from it\n",
    "    items_list = list(items_list)\n",
    "    item_index = items_list.index(item)\n",
    "    items_list.pop(item_index)\n",
    "    return items_list\n",
    "\n",
    "food_staff = ['Potato', 'Tomato', 'Mango', 'Milk'];\n",
    "print(remove_item(food_staff, 'Mango'))\n",
    "numbers = [2, 3, 7, 9];\n",
    "print(remove_item(numbers, 3))"
   ]
  },
  {
   "attachments": {},
   "cell_type": "markdown",
   "metadata": {},
   "source": [
    "##### Question 13\n",
    "Declare a function named sum_of_numbers. It takes a number parameter and it adds all the numbers in that range.\n",
    "print(sum_of_numbers(5))  # 15\n",
    "print(sum_all_numbers(10)) # 55\n",
    "print(sum_all_numbers(100)) # 5050"
   ]
  },
  {
   "cell_type": "code",
   "execution_count": 43,
   "metadata": {},
   "outputs": [
    {
     "name": "stdout",
     "output_type": "stream",
     "text": [
      "15\n",
      "55\n",
      "5050\n"
     ]
    }
   ],
   "source": [
    "def sum_all_numbers(n):\n",
    "# That function takes a number parameter and it adds all the numbers in that range.\n",
    "    sum = 0\n",
    "    for i in range(n + 1):\n",
    "        sum += i\n",
    "    return sum \n",
    "\n",
    "print(\" the sum of numbers in from 0 to 5 is : \",sum_all_numbers(5))  # 15\n",
    "print(\" the sum of numbers in from 0 to 10 is : \",sum_all_numbers(10)) # 55\n",
    "print(\" the sum of numbers in from 0 to 100 is : \",sum_all_numbers(100)) # 5050\n",
    "\n"
   ]
  },
  {
   "cell_type": "markdown",
   "metadata": {},
   "source": [
    "#### Question 14\n",
    "Declare a function named sum_of_odds. It takes a number parameter and it adds all the odd numbers in that range."
   ]
  },
  {
   "cell_type": "code",
   "execution_count": null,
   "metadata": {},
   "outputs": [],
   "source": [
    "def  sum_of_odds(x):\n",
    "    sum = 1\n",
    "    for i in range(1,x + 1,2):\n",
    "        sum += i\n",
    "    return sum \n",
    "\n",
    "print(\"the sum of all odd  numbers from 0 to eight is : \",sum_of_odds(8))"
   ]
  },
  {
   "attachments": {},
   "cell_type": "markdown",
   "metadata": {},
   "source": [
    "##### Question 15\n",
    "Declare a function named sum_of_even. It takes a number parameter and it adds all the even numbers in that - range."
   ]
  },
  {
   "cell_type": "code",
   "execution_count": 15,
   "metadata": {},
   "outputs": [
    {
     "name": "stdout",
     "output_type": "stream",
     "text": [
      "the sum of all even  numbers from 0 to eight is :  20\n"
     ]
    }
   ],
   "source": [
    "def  sum_of_even(x):\n",
    "    sum = 0\n",
    "    for i in range(0,x + 1,2):\n",
    "        sum += i\n",
    "    return sum \n",
    "\n",
    "print(\"the sum of all even  numbers from 0 to eight is : \",sum_of_even(8))"
   ]
  },
  {
   "attachments": {},
   "cell_type": "markdown",
   "metadata": {},
   "source": [
    "#### Exercise level 2"
   ]
  },
  {
   "attachments": {},
   "cell_type": "markdown",
   "metadata": {},
   "source": [
    "##### Question 1\n",
    "Declare a function named sum_of_even. It takes a number parameter and it adds all the even numbers in that - range.\n"
   ]
  },
  {
   "cell_type": "code",
   "execution_count": 55,
   "metadata": {},
   "outputs": [
    {
     "name": "stdout",
     "output_type": "stream",
     "text": [
      "the number of odds are : 50\n",
      "The number of evens are : 51\n"
     ]
    }
   ],
   "source": [
    "def evens_and_odds(y):\n",
    "    No_of_odds = []\n",
    "    No_of_evens = []\n",
    "    odds = len(No_of_odds)\n",
    "    evens = len(No_of_evens)\n",
    "    for i in range(y + 1):\n",
    "        if i % 2 == 0 :\n",
    "            No_of_evens.append(i)\n",
    "        else:\n",
    "             No_of_odds.append(i)\n",
    "    odds = len(No_of_odds)\n",
    "    evens = len(No_of_evens)\n",
    "    print('the number of odds are :', odds)      \n",
    "    print('The number of evens are :', evens)\n",
    "     \n",
    "    \n",
    "evens_and_odds(100)  \n",
    "\n",
    "\n",
    "\n",
    "\n"
   ]
  },
  {
   "attachments": {},
   "cell_type": "markdown",
   "metadata": {},
   "source": [
    "##### Question 2\n",
    "Call your function factorial, it takes a whole number as a parameter and it return a factorial of the number"
   ]
  },
  {
   "cell_type": "code",
   "execution_count": 2,
   "metadata": {},
   "outputs": [
    {
     "name": "stdout",
     "output_type": "stream",
     "text": [
      "the factorial of 6 is 720\n"
     ]
    }
   ],
   "source": [
    "def factorial(n):\n",
    "    facto = 1\n",
    "    if n == 1 or n == 0:\n",
    "        return n\n",
    "    else:\n",
    "         for i in range(1,n+1):\n",
    "            facto *= i\n",
    "    return facto\n",
    "\n",
    "\n",
    "print('the factorial of 6 is', factorial(6))\n",
    "    "
   ]
  },
  {
   "attachments": {},
   "cell_type": "markdown",
   "metadata": {},
   "source": [
    "##### Question 3\n",
    "Call your function is_empty, it takes a parameter and it checks if it is empty or not\n",
    "\n"
   ]
  },
  {
   "cell_type": "code",
   "execution_count": 12,
   "metadata": {},
   "outputs": [
    {
     "name": "stdout",
     "output_type": "stream",
     "text": [
      " to check if names is empty there is no single thing inside\n"
     ]
    }
   ],
   "source": [
    "def is_empty(x):\n",
    "    if len(x) == 0:\n",
    "         is_it_empty =\"there is no single thing inside\"     \n",
    "    else: \n",
    "       is_it_empty = \"It is not empty\"\n",
    "\n",
    "    return is_it_empty   \n",
    "    \n",
    "    \n",
    "\n",
    "names = () \n",
    "print(' to check if names is empty', is_empty(names))    \n",
    " "
   ]
  },
  {
   "attachments": {},
   "cell_type": "markdown",
   "metadata": {},
   "source": [
    "##### Question 4\n",
    "Write different functions which take lists. They should calculate_mean, calculate_median, calculate_mode, calculate_range, calculate_variance, calculate_std (standard deviation)"
   ]
  },
  {
   "cell_type": "code",
   "execution_count": 13,
   "metadata": {},
   "outputs": [
    {
     "name": "stdout",
     "output_type": "stream",
     "text": [
      "the mean of the list is  9.1\n",
      "the median of the list is  9\n",
      "the mode of the list is  <generator object calculate_mode.<locals>.<genexpr> at 0x000001997F673970>\n",
      "the range of the list is  79\n",
      "the variance of the list is  302.2\n",
      "the standard deviation of the list is  17.383900597967074\n"
     ]
    }
   ],
   "source": [
    "\n",
    "def calculate_mean(x):\n",
    "    mean = sum(x)/len(x)\n",
    "    return mean\n",
    "\n",
    "def calculate_median(x):\n",
    "    x.sort()\n",
    "    if len(x) // 2 == 1:\n",
    "        median = x[len(x)//2]\n",
    "    else:\n",
    "          median = (x[len(x) // 2] + x[len(x)//2 - 1])\n",
    "    return   median\n",
    "\n",
    "def calculate_mode(x):\n",
    "     y = {}\n",
    "     for i in x:\n",
    "          if i in y:\n",
    "               y[i] += 1\n",
    "          else:\n",
    "               y[i] = 1\n",
    "     return [m for m in y.keys() if y[m]== max(y.values()) ]             \n",
    "\n",
    "\n",
    "def calculate_range(x):\n",
    "     x.sort()\n",
    "     range_ = x[-1] - x[0]\n",
    "     return range_\n",
    "\n",
    "def calculate_variance(x):\n",
    "     list_sum = sum(x)\n",
    "     square_list_sum = list_sum ** 2\n",
    "     squared_list = []\n",
    "     for i in x:\n",
    "          i = i ** 2\n",
    "          squared_list.append(i)\n",
    "     sum_squared_list = sum(squared_list)\n",
    "     sigma = (sum_squared_list - square_list_sum/len(squared_list))/(len(squared_list)-1)\n",
    "     return sigma\n",
    "\n",
    "def calculate_std (x):\n",
    "     Std = calculate_variance(x) ** 0.5\n",
    "     return Std\n",
    "\n",
    "\n",
    "list_no = [1,3,6,1,2,4,80,5,4,23,6,8,3,5,8,9,4,1,8,1,]\n",
    "\n",
    "print('the mean of the list is ', calculate_mean(list_no))\n",
    "print('the median of the list is ', calculate_median(list_no)  )\n",
    "print('the mode of the list is ',  calculate_mode(list_no) )\n",
    "print('the range of the list is ',calculate_range(list_no)   )\n",
    "print('the variance of the list is ',  calculate_variance(list_no) )\n",
    "print('the standard deviation of the list is ', calculate_std(list_no)  )"
   ]
  },
  {
   "attachments": {},
   "cell_type": "markdown",
   "metadata": {},
   "source": [
    "#### Exercises Level 3"
   ]
  },
  {
   "attachments": {},
   "cell_type": "markdown",
   "metadata": {},
   "source": [
    "##### Question 1\n",
    "\n",
    "Write a function called is_prime, which checks if a number is prime.\n"
   ]
  },
  {
   "cell_type": "code",
   "execution_count": 19,
   "metadata": {},
   "outputs": [
    {
     "name": "stdout",
     "output_type": "stream",
     "text": [
      "Lest check wether 6 is prime ? False\n",
      "What of 13 ? True\n"
     ]
    }
   ],
   "source": [
    "def is_prime(x):\n",
    "    for i in range(2, x):\n",
    "        if x % i == 0:\n",
    "            prime_check = False\n",
    "        else:\n",
    "            prime_check = True\n",
    "\n",
    "        return prime_check\n",
    "\n",
    "print('Lest check wether 6 is prime ?', is_prime(6))       \n",
    "print('What of 13 ?', is_prime(13))   "
   ]
  },
  {
   "attachments": {},
   "cell_type": "markdown",
   "metadata": {},
   "source": [
    "##### Question 2\n",
    "\n",
    "Write a functions which checks if all items are unique in the list.\n"
   ]
  },
  {
   "cell_type": "code",
   "execution_count": 20,
   "metadata": {},
   "outputs": [
    {
     "name": "stdout",
     "output_type": "stream",
     "text": [
      "Are all items in the list unique ? False\n"
     ]
    }
   ],
   "source": [
    "def unique(x):\n",
    "    Unique_items = set(x)\n",
    "    if len(x) == len(Unique_items):\n",
    "        is_unique = True\n",
    "    else:\n",
    "        is_unique = False\n",
    "    return is_unique    \n",
    "\n",
    "\n",
    "Check  = ['i', 'am', 'a', 'boy', 'not', 'a', 'girl' ]\n",
    "print('Are all items in the list unique ?', unique(Check))"
   ]
  },
  {
   "attachments": {},
   "cell_type": "markdown",
   "metadata": {},
   "source": [
    "##### Question 3\n",
    "Write a function which checks if all the items of the list are of the same data type.\n"
   ]
  },
  {
   "cell_type": "code",
   "execution_count": 1,
   "metadata": {},
   "outputs": [
    {
     "name": "stdout",
     "output_type": "stream",
     "text": [
      "Are all the items in the first list of the same data type ?\n",
      "No\n",
      "Are all the items in the Second list of the same data type ?\n",
      "No\n"
     ]
    }
   ],
   "source": [
    "def Check_list(x):\n",
    "    data = []\n",
    "    for  i in range(len(x)):\n",
    "     \n",
    "     if all((type(data) is True) for i in x):\n",
    "        print ('Yes')\n",
    "    else:\n",
    "        print ('No')\n",
    "   \n",
    "    \n",
    "list1= ['w',3 ,4, 'e']\n",
    "list2= [2,3,4,6]\n",
    "list3 = ['r','t','y']\n",
    "print('Are all the items in the first list of the same data type ?')\n",
    "Check_list(list1)\n",
    "print('Are all the items in the Second list of the same data type ?')\n",
    "Check_list(list2)\n"
   ]
  },
  {
   "attachments": {},
   "cell_type": "markdown",
   "metadata": {},
   "source": [
    "##### Question 4\n",
    "Write a function which check if provided variable is a valid python variable\n"
   ]
  },
  {
   "cell_type": "code",
   "execution_count": 11,
   "metadata": {},
   "outputs": [
    {
     "data": {
      "text/plain": [
       "False"
      ]
     },
     "execution_count": 11,
     "metadata": {},
     "output_type": "execute_result"
    }
   ],
   "source": [
    "def Variable_validity(x):\n",
    "    if x == True:\n",
    "        validity = True\n",
    "    else:\n",
    "        validity = False    \n",
    "    return validity\n",
    "\n",
    "e = '5e'\n",
    "Variable_validity(e)"
   ]
  },
  {
   "attachments": {},
   "cell_type": "markdown",
   "metadata": {},
   "source": [
    "##### Question 5\n",
    "Go to the data folder and access the countries-data.py file.\n",
    "Create a function called the most_spoken_languages in the world. It should return 10 or 20 most spoken languages in the world in descending order\n",
    "Create a function called the most_populated_countries. It should return 10 or 20 most populated countries in descending order."
   ]
  },
  {
   "cell_type": "code",
   "execution_count": null,
   "metadata": {},
   "outputs": [
    {
     "name": "stdout",
     "output_type": "stream",
     "text": [
      "Ten most spoken languages:  [('English', 91), ('French', 45), ('Arabic', 25), ('Spanish', 24), ('Portuguese', 9), ('Russian', 9), ('Dutch', 8), ('German', 7), ('Chinese', 5), ('Serbian', 4)]\n",
      "Ten most populated countries: ['China', 'India', 'United States of America', 'Indonesia', 'Brazil', 'Pakistan', 'Nigeria', 'Bangladesh', 'Russian Federation', 'Japan']\n"
     ]
    }
   ],
   "source": [
    "from country_data import countries_data\n",
    "\n",
    "def most_spoken_languages():\n",
    "\n",
    "    # looping to get dict of languages\n",
    "    languages = []\n",
    "    for i in range(len(countries_data)):\n",
    "      languages.extend(countries_data[i]['languages'])\n",
    "\n",
    "    lang = {}\n",
    "    for language in languages:\n",
    "        lang[language] = lang.get(language,0) + 1\n",
    "\n",
    "\n",
    "    sorted_lang = sorted(lang.items(), key= lambda x:x[1],reverse=True)\n",
    "    sorted_lang \n",
    "    top_ten = []\n",
    "    for i in range(10):\n",
    "       top_ten.append(sorted_lang[i])\n",
    "    return top_ten\n",
    "\n",
    "print(f'Ten most spoken languages:  {most_spoken_languages()}')\n",
    "\n",
    "\n",
    "\n",
    "def most_populated_countries():\n",
    "    population = {}\n",
    "    for i in range(len(countries_data)):\n",
    "        keys = countries_data[i]['name']\n",
    "        values = countries_data[i]['population']\n",
    "        population[keys] = values\n",
    "    sorted_pop = sorted(population.items(), key= lambda x:x[1],reverse=True)\n",
    "\n",
    "    most_pop = []\n",
    "    for i in range(10):\n",
    "        most_pop.append(sorted_pop[i][0])\n",
    "\n",
    "    return most_pop\n",
    "\n",
    "print(f'Ten most populated countries: {most_populated_countries()}')"
   ]
  }
 ],
 "metadata": {
  "kernelspec": {
   "display_name": "Python 3",
   "language": "python",
   "name": "python3"
  },
  "language_info": {
   "codemirror_mode": {
    "name": "ipython",
    "version": 3
   },
   "file_extension": ".py",
   "mimetype": "text/x-python",
   "name": "python",
   "nbconvert_exporter": "python",
   "pygments_lexer": "ipython3",
   "version": "3.11.0"
  },
  "orig_nbformat": 4,
  "vscode": {
   "interpreter": {
    "hash": "fb9b610eab4921576ab997c09d0c1c552d2f49ec8c532f5ef2f9f88daad97359"
   }
  }
 },
 "nbformat": 4,
 "nbformat_minor": 2
}
