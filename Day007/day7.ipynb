{
 "cells": [
  {
   "cell_type": "markdown",
   "metadata": {},
   "source": [
    "### Day 7"
   ]
  },
  {
   "cell_type": "code",
   "execution_count": 2,
   "metadata": {},
   "outputs": [],
   "source": [
    "it_companies = {'Facebook', 'Google', 'Microsoft', 'Apple', 'IBM', 'Oracle', 'Amazon'}\n",
    "A = {19, 22, 24, 20, 25, 26}\n",
    "B = {19, 22, 20, 25, 26, 24, 28, 27}\n",
    "age = [22, 19, 24, 25, 26, 24, 25, 24]"
   ]
  },
  {
   "cell_type": "markdown",
   "metadata": {},
   "source": [
    "#### Exercises Level 1\n",
    "Find the length of the set it_companies"
   ]
  },
  {
   "cell_type": "markdown",
   "metadata": {},
   "source": [
    "##### Question 1"
   ]
  },
  {
   "cell_type": "code",
   "execution_count": 3,
   "metadata": {},
   "outputs": [
    {
     "name": "stdout",
     "output_type": "stream",
     "text": [
      "The lenght of the IT companies is 7\n"
     ]
    }
   ],
   "source": [
    "lenght_it_companies = len(it_companies)\n",
    "print('The lenght of the IT companies is', lenght_it_companies)"
   ]
  },
  {
   "cell_type": "markdown",
   "metadata": {},
   "source": [
    "##### Question 2\n",
    "Add 'Twitter' to it_companies"
   ]
  },
  {
   "cell_type": "code",
   "execution_count": 31,
   "metadata": {},
   "outputs": [
    {
     "name": "stdout",
     "output_type": "stream",
     "text": [
      "{'Microsoft', 'Google', 'Oracle', 'Amazon', 'IBM', 'twitter', 'Facebook', 'Apple'}\n"
     ]
    }
   ],
   "source": [
    "it_companies.add('twitter')\n",
    "print(it_companies)"
   ]
  },
  {
   "cell_type": "markdown",
   "metadata": {},
   "source": [
    "##### Question 3\n",
    "Insert multiple IT companies at once to the set it_companies"
   ]
  },
  {
   "cell_type": "code",
   "execution_count": 32,
   "metadata": {},
   "outputs": [
    {
     "name": "stdout",
     "output_type": "stream",
     "text": [
      "{'Oracle', 'Snapchat', 'twitter', 'Amazon', 'Facebook', 'facebook', 'Google', 'Yahoo', 'Microsoft', 'IBM', 'Apple'}\n"
     ]
    }
   ],
   "source": [
    "Another_it_companies = {'facebook', 'Snapchat', 'Yahoo'}\n",
    "it_companies.update(Another_it_companies)\n",
    "print(it_companies)"
   ]
  },
  {
   "cell_type": "markdown",
   "metadata": {},
   "source": [
    "##### Question 4\n",
    "Remove one of the companies from the set it_companies"
   ]
  },
  {
   "cell_type": "code",
   "execution_count": 33,
   "metadata": {},
   "outputs": [
    {
     "name": "stdout",
     "output_type": "stream",
     "text": [
      "{'Snapchat', 'twitter', 'Amazon', 'Facebook', 'facebook', 'Google', 'Yahoo', 'Microsoft', 'IBM', 'Apple'}\n",
      "The removed company is :  Oracle\n"
     ]
    }
   ],
   "source": [
    "removed_company = it_companies.pop()\n",
    "print(it_companies)\n",
    "print('The removed company is : ',removed_company)"
   ]
  },
  {
   "cell_type": "markdown",
   "metadata": {},
   "source": [
    "##### Question 5\n",
    "What is the difference between remove and discard"
   ]
  },
  {
   "cell_type": "code",
   "execution_count": null,
   "metadata": {},
   "outputs": [],
   "source": [
    "#The difference between remove and discard is that if you remove an item and you are intrested in it\n",
    "#while if you discard  it your are not intrested in it"
   ]
  },
  {
   "cell_type": "markdown",
   "metadata": {},
   "source": [
    "#### Exercises Level 2"
   ]
  },
  {
   "cell_type": "markdown",
   "metadata": {},
   "source": [
    "##### Question 1\n",
    "Join A and B"
   ]
  },
  {
   "cell_type": "code",
   "execution_count": 35,
   "metadata": {},
   "outputs": [
    {
     "name": "stdout",
     "output_type": "stream",
     "text": [
      "the list after A is joined with B : {19, 20, 22, 24, 25, 26, 27, 28}\n"
     ]
    }
   ],
   "source": [
    "A_joined_With_B = A.union(B)\n",
    "print('the list after A is joined with B :',  A_joined_With_B)"
   ]
  },
  {
   "cell_type": "markdown",
   "metadata": {},
   "source": [
    "##### Question 2"
   ]
  },
  {
   "cell_type": "markdown",
   "metadata": {},
   "source": [
    "Find A intersction B"
   ]
  },
  {
   "cell_type": "code",
   "execution_count": 36,
   "metadata": {},
   "outputs": [
    {
     "name": "stdout",
     "output_type": "stream",
     "text": [
      "A intersect B is  {19, 20, 22, 24, 25, 26}\n"
     ]
    }
   ],
   "source": [
    "A_Intersect_B = A.intersection(B)\n",
    "print('A intersect B is ' , A_Intersect_B)"
   ]
  },
  {
   "cell_type": "markdown",
   "metadata": {},
   "source": [
    "##### Question 3\n",
    "IS A a subset of B"
   ]
  },
  {
   "cell_type": "code",
   "execution_count": 37,
   "metadata": {},
   "outputs": [
    {
     "name": "stdout",
     "output_type": "stream",
     "text": [
      "Checking wether A is asubset of B :  True\n"
     ]
    }
   ],
   "source": [
    "check = A.issubset(B)\n",
    "print('Checking wether A is asubset of B : ', check)"
   ]
  },
  {
   "cell_type": "markdown",
   "metadata": {},
   "source": [
    "##### Question 4\n",
    "Are A and B disjoint sets"
   ]
  },
  {
   "cell_type": "code",
   "execution_count": 38,
   "metadata": {},
   "outputs": [
    {
     "name": "stdout",
     "output_type": "stream",
     "text": [
      "Checking wether A and B is disjoint sets :  False\n"
     ]
    }
   ],
   "source": [
    "Is_disjoint = A.isdisjoint(B)\n",
    "print('Checking wether A and B is disjoint sets : ', Is_disjoint)"
   ]
  },
  {
   "cell_type": "markdown",
   "metadata": {},
   "source": [
    "##### Question 5\n",
    "Join A with B and B with A"
   ]
  },
  {
   "cell_type": "code",
   "execution_count": 39,
   "metadata": {},
   "outputs": [
    {
     "name": "stdout",
     "output_type": "stream",
     "text": [
      " A joined with B is : {19, 20, 22, 24, 25, 26, 27, 28}\n",
      " B joined with A is : {19, 20, 22, 24, 25, 26, 27, 28}\n"
     ]
    }
   ],
   "source": [
    "print(' A joined with B is :', A.union(B))\n",
    "print(' B joined with A is :', B.union(A))"
   ]
  },
  {
   "cell_type": "markdown",
   "metadata": {},
   "source": [
    "##### Question 6\n",
    "\n",
    "What is the symmetric difference between A and B"
   ]
  },
  {
   "cell_type": "code",
   "execution_count": 40,
   "metadata": {},
   "outputs": [
    {
     "name": "stdout",
     "output_type": "stream",
     "text": [
      "The symmetric difference between A and B is :  {27, 28}\n"
     ]
    }
   ],
   "source": [
    "print('The symmetric difference between A and B is : ', A.symmetric_difference(B))"
   ]
  },
  {
   "cell_type": "markdown",
   "metadata": {},
   "source": [
    "##### Question 7 (deleting sets A and B)"
   ]
  },
  {
   "cell_type": "code",
   "execution_count": 41,
   "metadata": {},
   "outputs": [],
   "source": [
    "del A\n",
    "del B"
   ]
  },
  {
   "cell_type": "markdown",
   "metadata": {},
   "source": [
    "#### Exercises: Level 3"
   ]
  },
  {
   "cell_type": "markdown",
   "metadata": {},
   "source": [
    "##### Question 1\n",
    "\n",
    "Convert the ages to a set and compare the length of the list and the set, which one is bigger?\n"
   ]
  },
  {
   "cell_type": "code",
   "execution_count": 42,
   "metadata": {},
   "outputs": [
    {
     "name": "stdout",
     "output_type": "stream",
     "text": [
      "The lenght of the list is 8 and the lenght of the set is 5, so the bigger of the two is the one with 8 charcters\n"
     ]
    }
   ],
   "source": [
    "Ages = set(age)\n",
    "lenght_St_age = len(Ages)\n",
    "lenght_Ls_age = len(age)\n",
    "New = [lenght_Ls_age, lenght_St_age]\n",
    "bigger = max(New)\n",
    "print(f'The lenght of the list is {lenght_Ls_age} and the lenght of the set is {lenght_St_age}, so the bigger of the two is the one with {bigger} charcters')"
   ]
  },
  {
   "cell_type": "markdown",
   "metadata": {},
   "source": [
    "##### Question 2\n",
    "the difference between string, list , tuple and list is :\n",
    "String is a data type stored in parentheses\n",
    "\n",
    "list is a container that stores colection of items that have same or different data types.It is ordered and mutable(it's value can be changed)\n",
    " \n",
    "Tuple is container that stores colection of items that have same or different data types.It is ordered and unmutable(it can not be modified)\n",
    "\n",
    "set is container that stores colection of distinct  or unique items that have same data .It is unordered and mutable(it  can  be modified)"
   ]
  },
  {
   "cell_type": "markdown",
   "metadata": {},
   "source": [
    "##### Question 3\n",
    "I am a teacher and I love to inspire and teach people. How many unique words have been used in the sentence? Use the split methods and set to get the unique words."
   ]
  },
  {
   "cell_type": "code",
   "execution_count": 21,
   "metadata": {},
   "outputs": [
    {
     "name": "stdout",
     "output_type": "stream",
     "text": [
      "['I', 'am', 'a', 'teacher', 'and', 'I', 'love', 'to', 'inspire', 'and', 'teach', 'people.']\n",
      "The lenght ofthe list is :  12\n",
      "The whole caracters are :    ['I', 'a', 'm', 'a', 't', 'e', 'a', 'c', 'h', 'e', 'r', 'a', 'n', 'd', 'I', 'l', 'o', 'v', 'e', 't', 'o', 'i', 'n', 's', 'p', 'i', 'r', 'e', 'a', 'n', 'd', 't', 'e', 'a', 'c', 'h', 'p', 'e', 'o', 'p', 'l', 'e', '.']\n",
      "the uniiqe chracters in the string are {'m', 'c', 'r', 'd', '.', 't', 'h', 'v', 'I', 'p', 'i', 'l', 'e', 's', 'n', 'a', 'o'} and they are 17 in number \n"
     ]
    }
   ],
   "source": [
    "Str = 'I am a teacher and I love to inspire and teach people.'\n",
    "new_str = Str.split()\n",
    "print (new_str)\n",
    "len_list = len(new_str)\n",
    "print('The lenght ofthe list is : ',len_list )\n",
    "First_list = list(new_str[0])\n",
    "Second= list(new_str[1])\n",
    "Third = list(new_str[2])\n",
    "fourth = list(new_str[3])\n",
    "fifth = list(new_str[4])\n",
    "Sixth = list(new_str[5])\n",
    "Seventh = list(new_str[6])\n",
    "eigth = list(new_str[7])\n",
    "Ninth = list(new_str[8])\n",
    "Tenth = list(new_str[9])\n",
    "Eleventh = list(new_str[10])\n",
    "Twelveth = list(new_str[11])\n",
    "\n",
    "whole_list = First_list + Second + Third + fourth + fifth + Sixth +Seventh +eigth+Ninth+Tenth+Eleventh+Twelveth \n",
    "print('The whole caracters are :   ', whole_list)\n",
    "set_str = set(whole_list)\n",
    "Unique_charcters = len(set_str)\n",
    "print(f'the uniiqe chracters in the string are {set_str} and they are {Unique_charcters} in number ')"
   ]
  },
  {
   "cell_type": "code",
   "execution_count": 28,
   "metadata": {},
   "outputs": [
    {
     "name": "stdout",
     "output_type": "stream",
     "text": [
      "This is the list of the words used ['I', 'am', 'a', 'teacher', 'and', 'I', 'love', 'to', 'inspire', 'and', 'teach', 'people.'] and they are 12 in number \n",
      "The unique words used in the sentence are : {'teacher', 'inspire', 'to', 'I', 'am', 'people.', 'love', 'and', 'a', 'teach'} and they are 10 in Number \n"
     ]
    }
   ],
   "source": [
    "Str = 'I am a teacher and I love to inspire and teach people.'\n",
    "new = Str.split()\n",
    "word  = len(new)\n",
    "print(f'This is the list of the words used {new} and they are {word} in number ')\n",
    "sett = set(new)\n",
    "words = len(sett)\n",
    "print (f'The unique words used in the sentence are : {sett} and they are {words} in Number ' )"
   ]
  }
 ],
 "metadata": {
  "kernelspec": {
   "display_name": "Python 3 (ipykernel)",
   "language": "python",
   "name": "python3"
  },
  "language_info": {
   "codemirror_mode": {
    "name": "ipython",
    "version": 3
   },
   "file_extension": ".py",
   "mimetype": "text/x-python",
   "name": "python",
   "nbconvert_exporter": "python",
   "pygments_lexer": "ipython3",
   "version": "3.10.13"
  },
  "vscode": {
   "interpreter": {
    "hash": "fb9b610eab4921576ab997c09d0c1c552d2f49ec8c532f5ef2f9f88daad97359"
   }
  }
 },
 "nbformat": 4,
 "nbformat_minor": 2
}
